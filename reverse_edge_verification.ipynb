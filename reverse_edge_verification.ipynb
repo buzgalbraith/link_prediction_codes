{
 "cells": [
  {
   "cell_type": "markdown",
   "metadata": {},
   "source": [
    "## Purpose \n",
    "I am just going to sanity check that the forward and reverse edges produced by [RandomLinkSplit](https://pytorch-geometric.readthedocs.io/en/latest/generated/torch_geometric.transforms.RandomLinkSplit.html) are inline with what is discussed in [this post](https://github.com/pyg-team/pytorch_geometric/issues/3668)"
   ]
  },
  {
   "cell_type": "code",
   "execution_count": 18,
   "metadata": {},
   "outputs": [],
   "source": [
    "\n",
    "import pandas as pd\n",
    "import torch \n",
    "from torch_geometric.data import HeteroData\n",
    "import torch_geometric.transforms as T\n",
    "from torch_geometric.loader import LinkNeighborLoader\n",
    "from torch_geometric.nn import SAGEConv, to_hetero\n",
    "import torch.nn.functional as F\n",
    "from torch_geometric.typing import Tensor\n",
    "import tqdm\n",
    "from sklearn.metrics import roc_auc_score, roc_curve, RocCurveDisplay, average_precision_score, precision_recall_curve, PrecisionRecallDisplay\n",
    "import os\n",
    "import argparse\n",
    "from src.gnn_model import *\n",
    "from src.utils import *\n",
    "import numpy as np"
   ]
  },
  {
   "cell_type": "markdown",
   "metadata": {},
   "source": [
    "## load data / make data splits"
   ]
  },
  {
   "cell_type": "code",
   "execution_count": 35,
   "metadata": {},
   "outputs": [],
   "source": [
    "## first want to load the graph \n",
    "# data = torch.load('kg/msk_impact_unknown-free_gene-oncogenic-no-reverse_edges.pt')\n",
    "data = torch.load('kg/msk_impact_unknown-free_gene-oncogenic.pt')\n",
    "## want to drop the reverse edges\n",
    "# Check if it's indeed a HeteroData object\n",
    "assert isinstance(data, HeteroData), \"Loaded data is not a HeteroData object.\"\n",
    "## augment data for link prediction\n",
    "data = augment_graph(data = data, use_dummy_features = False, num_dummy_features = 100, random_dummy_features = False)\n",
    "## set up train test split transform\n",
    "transform = T.RandomLinkSplit(\n",
    "    num_val=0.1,\n",
    "    num_test=0.1,\n",
    "    disjoint_train_ratio=0,\n",
    "    ## this \n",
    "\n",
    "    ## before total = 9711, train = 7769, val = 7769, test = 8740\n",
    "    add_negative_train_samples=False,\n",
    "    # edge_types=forward_edges_list,\n",
    "    # rev_edge_types=reverse_edges_list,\n",
    "    is_undirected = True,\n",
    "    edge_types=('patient', 'treated_with', 'drug'), \n",
    "    # rev_edge_types = ('drug', 'treating', 'patient')\n",
    "    rev_edge_types = ('drug', 'treating', 'patient')\n",
    ")\n",
    "train_data, val_data, test_data = transform(data)"
   ]
  },
  {
   "cell_type": "markdown",
   "metadata": {},
   "source": [
    "## general check \n",
    "lets make sure the overall number of forward and reverse edges are equal"
   ]
  },
  {
   "cell_type": "code",
   "execution_count": 36,
   "metadata": {},
   "outputs": [
    {
     "name": "stdout",
     "output_type": "stream",
     "text": [
      "True\n"
     ]
    }
   ],
   "source": [
    "num_total_rev_edges = data[('drug', 'treating', 'patient')]['edge_index'].shape[1]\n",
    "num_total_forward_edges = data[('patient', 'treated_with', 'drug')]['edge_index'].shape[1]\n",
    "print(num_total_rev_edges == num_total_forward_edges)"
   ]
  },
  {
   "cell_type": "markdown",
   "metadata": {},
   "source": [
    "lets make sure that swapping the rows for the rev total edges makes them equal "
   ]
  },
  {
   "cell_type": "code",
   "execution_count": 37,
   "metadata": {},
   "outputs": [
    {
     "name": "stdout",
     "output_type": "stream",
     "text": [
      "tensor(True)\n"
     ]
    }
   ],
   "source": [
    "total_rev_edges = data[('drug', 'treating', 'patient')]['edge_index']\n",
    "swapped_total_rev_edges =total_rev_edges[[1,0]]\n",
    "total_forward_edges = data[('patient', 'treated_with', 'drug')]['edge_index']\n",
    "print(torch.all(swapped_total_rev_edges.eq(total_forward_edges)))"
   ]
  },
  {
   "cell_type": "markdown",
   "metadata": {},
   "source": [
    "lets make sure that the indecies of all edges are unique"
   ]
  },
  {
   "cell_type": "code",
   "execution_count": 38,
   "metadata": {},
   "outputs": [
    {
     "name": "stdout",
     "output_type": "stream",
     "text": [
      "9711 3689\n"
     ]
    }
   ],
   "source": [
    "total_forward_edges = data[('patient', 'treated_with', 'drug')]['edge_index']\n",
    "unique_forward_edges = np.unique(total_forward_edges,axis=1)\n",
    "print(total_forward_edges.shape[1] == unique_forward_edges.shape[1])"
   ]
  },
  {
   "cell_type": "markdown",
   "metadata": {},
   "source": [
    "## Verify the training set \n",
    "First as a sanity check lets confirm that edge_index and edge_label_index are the same for the forward edges"
   ]
  },
  {
   "cell_type": "code",
   "execution_count": 39,
   "metadata": {},
   "outputs": [
    {
     "name": "stdout",
     "output_type": "stream",
     "text": [
      "tensor(True)\n"
     ]
    }
   ],
   "source": [
    "train_data_edge_index = train_data[('patient', 'treated_with', 'drug')]['edge_index']\n",
    "train_data_edge_label_index = train_data[('patient', 'treated_with', 'drug')]['edge_label_index']\n",
    "print(torch.all(train_data_edge_index.eq(train_data_edge_label_index)))"
   ]
  },
  {
   "cell_type": "markdown",
   "metadata": {},
   "source": [
    "now lets make sure that the size of tensor is equal to 80% of the total number of edges (since there are no negative samples added at this point)"
   ]
  },
  {
   "cell_type": "code",
   "execution_count": 40,
   "metadata": {},
   "outputs": [
    {
     "name": "stdout",
     "output_type": "stream",
     "text": [
      "7769\n",
      "9711\n",
      "True\n"
     ]
    }
   ],
   "source": [
    "num_train_edges = train_data[('patient', 'treated_with', 'drug')]['edge_label_index'].shape[1]\n",
    "num_total_forward_edges = data[('patient', 'treated_with', 'drug')]['edge_index'].shape[1]\n",
    "print(num_train_edges)\n",
    "print(num_total_forward_edges)\n",
    "print(num_train_edges == round(num_total_forward_edges*0.8))"
   ]
  },
  {
   "cell_type": "markdown",
   "metadata": {},
   "source": [
    "Now confirm that switching the first and second row of the training data reverse edge edge_index is equal to the train data edge_index"
   ]
  },
  {
   "cell_type": "code",
   "execution_count": 41,
   "metadata": {},
   "outputs": [
    {
     "data": {
      "text/plain": [
       "tensor(True)"
      ]
     },
     "execution_count": 41,
     "metadata": {},
     "output_type": "execute_result"
    }
   ],
   "source": [
    "train_data_edge_index = train_data[('patient', 'treated_with', 'drug')]['edge_index']\n",
    "train_data_rev_edge_index = train_data[('drug', 'treating', 'patient')]['edge_index']\n",
    "row_swapped_train_data_rev_edge_index = train_data_rev_edge_index[[1, 0]]\n",
    "torch.all(row_swapped_train_data_rev_edge_index.eq(train_data_edge_index))"
   ]
  },
  {
   "cell_type": "markdown",
   "metadata": {},
   "source": [
    "So this shows that the indices of the reverse edges in the training set are equal to the indices set of edges used as labels in the training data, which is what we would expect."
   ]
  },
  {
   "cell_type": "markdown",
   "metadata": {},
   "source": [
    "## Verify the validation data "
   ]
  },
  {
   "cell_type": "markdown",
   "metadata": {},
   "source": [
    "Ok so the validation set should be the original 80% of the data from the training data. We can confirm this by just making sure the training and validation edge_index are equal in the forward and backwards direction"
   ]
  },
  {
   "cell_type": "code",
   "execution_count": 42,
   "metadata": {},
   "outputs": [
    {
     "name": "stdout",
     "output_type": "stream",
     "text": [
      "tensor(True)\n"
     ]
    },
    {
     "data": {
      "text/plain": [
       "tensor(True)"
      ]
     },
     "execution_count": 42,
     "metadata": {},
     "output_type": "execute_result"
    }
   ],
   "source": [
    "train_data_edge_index = train_data[('patient', 'treated_with', 'drug')]['edge_index']\n",
    "val_data_edge_index = val_data[('patient', 'treated_with', 'drug')]['edge_index']\n",
    "rev_train_data_edge_index = train_data[('drug', 'treating', 'patient')]['edge_index']\n",
    "rev_val_data_edge_index = val_data[('drug', 'treating', 'patient')]['edge_index']\n",
    "print(torch.all(val_data_edge_index.eq(train_data_edge_index)))\n",
    "torch.all(rev_val_data_edge_index.eq(rev_train_data_edge_index))"
   ]
  },
  {
   "cell_type": "markdown",
   "metadata": {},
   "source": [
    "Now we want to confirm that the sizes of the postive samples from the validation edge_index + validation edge_labels are equal to 90% of the overall data"
   ]
  },
  {
   "cell_type": "code",
   "execution_count": 44,
   "metadata": {},
   "outputs": [
    {
     "name": "stdout",
     "output_type": "stream",
     "text": [
      "9711\n",
      "971.1\n",
      "971\n",
      "True\n",
      "8740\n"
     ]
    },
    {
     "data": {
      "text/plain": [
       "False"
      ]
     },
     "execution_count": 44,
     "metadata": {},
     "output_type": "execute_result"
    }
   ],
   "source": [
    "num_val_data_edge_index = val_data[('patient', 'treated_with', 'drug')]['edge_index'].shape[1]\n",
    "num_val_data_edge_label_index = val_data[('patient', 'treated_with', 'drug')]['edge_label'][val_data[('patient', 'treated_with', 'drug')]['edge_label']==1].shape[0]\n",
    "num_total_forward_edges = data[('patient', 'treated_with', 'drug')]['edge_index'].shape[1]\n",
    "print(num_total_forward_edges)\n",
    "print(num_total_forward_edges*0.1)\n",
    "print(num_val_data_edge_label_index)\n",
    "print(num_val_data_edge_label_index == round(num_total_forward_edges*0.1))\n",
    "print(num_val_data_edge_index + num_val_data_edge_label_index) == round(num_total_forward_edges*0.9)"
   ]
  },
  {
   "cell_type": "markdown",
   "metadata": {},
   "source": [
    "ok now we want to confirm that adding the edges_index from the test set and the edge_index_label from the validation set, is equal to the test set's edge_index (which should be the edges used in training and validation) "
   ]
  },
  {
   "cell_type": "code",
   "execution_count": 45,
   "metadata": {},
   "outputs": [
    {
     "data": {
      "text/plain": [
       "tensor(True)"
      ]
     },
     "execution_count": 45,
     "metadata": {},
     "output_type": "execute_result"
    }
   ],
   "source": [
    "val_data_edge_index = val_data[('patient', 'treated_with', 'drug')]['edge_index']\n",
    "val_data_postive_edge_label_index = val_data[('patient', 'treated_with', 'drug')]['edge_label_index'][:,val_data[('patient', 'treated_with', 'drug')]['edge_label']==1]\n",
    "test_data_positive_edge_index = test_data[('patient', 'treated_with', 'drug')]['edge_index']\n",
    "expected_test_data_positive_edge_index = torch.cat([val_data_edge_index, val_data_postive_edge_label_index], dim = 1)\n",
    "torch.all(expected_test_data_positive_edge_index.eq(test_data_positive_edge_index))"
   ]
  },
  {
   "cell_type": "markdown",
   "metadata": {},
   "source": [
    "Now we want to confirm the same thing for the reverse edges "
   ]
  },
  {
   "cell_type": "code",
   "execution_count": 46,
   "metadata": {},
   "outputs": [
    {
     "data": {
      "text/plain": [
       "tensor(True)"
      ]
     },
     "execution_count": 46,
     "metadata": {},
     "output_type": "execute_result"
    }
   ],
   "source": [
    "val_data_rev_edge_index = val_data[('drug', 'treating', 'patient')]['edge_index']\n",
    "val_data_positive_edge_label_index = val_data[('patient', 'treated_with', 'drug')]['edge_label_index'][:,val_data[('patient', 'treated_with', 'drug')]['edge_label']==1]\n",
    "row_swapped_val_data_positive_edge_label_index = val_data_positive_edge_label_index[[1, 0]]\n",
    "test_data_rev_positive_edge_index = test_data[('drug', 'treating', 'patient')]['edge_index']\n",
    "expected_test_rev_data_positive_edge_index = torch.cat([val_data_rev_edge_index, row_swapped_val_data_positive_edge_label_index], dim = 1)\n",
    "torch.all(expected_test_rev_data_positive_edge_index.eq(test_data_rev_positive_edge_index))"
   ]
  },
  {
   "cell_type": "markdown",
   "metadata": {},
   "source": [
    "## test set validation"
   ]
  },
  {
   "cell_type": "markdown",
   "metadata": {},
   "source": [
    "So we already showed that the edge index in the test set is working as we want. So we just need to show that the edges labels are. we can firt do this by checking the length "
   ]
  },
  {
   "cell_type": "code",
   "execution_count": 47,
   "metadata": {},
   "outputs": [
    {
     "data": {
      "text/plain": [
       "True"
      ]
     },
     "execution_count": 47,
     "metadata": {},
     "output_type": "execute_result"
    }
   ],
   "source": [
    "num_postive_edge_labels_test = test_data[('patient', 'treated_with', 'drug')]['edge_label_index'][:,test_data[('patient', 'treated_with', 'drug')]['edge_label']==1].shape[1]\n",
    "num_total_postive_edges = data[('patient', 'treated_with', 'drug')]['edge_index'].shape[1]\n",
    "num_edge_index_test = test_data[('patient', 'treated_with', 'drug')]['edge_index'].shape[1]\n",
    "\n",
    "(num_edge_index_test + num_postive_edge_labels_test) == num_total_postive_edges\n",
    "\n",
    "\n",
    "\n"
   ]
  },
  {
   "cell_type": "markdown",
   "metadata": {},
   "source": [
    "Now we want to verify that adding the new postive samples to the samples used for message passing is equal to the set of all origginal edges. We can confirm this by checking that edge_label_index + edge_label(for the postive samples) for the test data is equal the edge_index of the unsplit dataset (after sorting) "
   ]
  },
  {
   "cell_type": "code",
   "execution_count": 48,
   "metadata": {},
   "outputs": [
    {
     "data": {
      "text/plain": [
       "tensor(True)"
      ]
     },
     "execution_count": 48,
     "metadata": {},
     "output_type": "execute_result"
    }
   ],
   "source": [
    "postive_edge_labels_test = test_data[('patient', 'treated_with', 'drug')]['edge_label_index'][:,test_data[('patient', 'treated_with', 'drug')]['edge_label']==1]\n",
    "edge_index_test = test_data[('patient', 'treated_with', 'drug')]['edge_index']\n",
    "expected_total_edge_index = torch.cat((postive_edge_labels_test,edge_index_test),axis=1)\n",
    "total_edge_index = data[('patient', 'treated_with', 'drug')]['edge_index']\n",
    "\n",
    "sorted_expected_total_edge_index = torch.sort(expected_total_edge_index,1).values\n",
    "sorted_total_edge_index = torch.sort(total_edge_index,1).values\n",
    "torch.all(sorted_expected_total_edge_index.eq(sorted_total_edge_index))\n"
   ]
  },
  {
   "cell_type": "markdown",
   "metadata": {},
   "source": [
    "Now we want to varify the same thing for the reverse edges "
   ]
  },
  {
   "cell_type": "code",
   "execution_count": 49,
   "metadata": {},
   "outputs": [
    {
     "data": {
      "text/plain": [
       "tensor(True)"
      ]
     },
     "execution_count": 49,
     "metadata": {},
     "output_type": "execute_result"
    }
   ],
   "source": [
    "postive_edge_labels_test = test_data[('patient', 'treated_with', 'drug')]['edge_label_index'][:,test_data[('patient', 'treated_with', 'drug')]['edge_label']==1]\n",
    "row_swapped_postive_edge_labes_test = postive_edge_labels_test[[1,0]]\n",
    "rev_edge_index_test = test_data[('drug', 'treating', 'patient')]['edge_index']\n",
    "expected_total_rev_edge_index = torch.cat((rev_edge_index_test,row_swapped_postive_edge_labes_test),axis=1)\n",
    "rev_total_edge_index = data[('drug', 'treating', 'patient')]['edge_index']\n",
    "\n",
    "sorted_expected_total_rev_edge_index = torch.sort(expected_total_rev_edge_index,1).values\n",
    "sorted_total_rev_edge_index = torch.sort(rev_total_edge_index,1).values\n",
    "torch.all(sorted_expected_total_rev_edge_index.eq(sorted_total_rev_edge_index))\n"
   ]
  }
 ],
 "metadata": {
  "kernelspec": {
   "display_name": "my_env",
   "language": "python",
   "name": "my_env"
  },
  "language_info": {
   "codemirror_mode": {
    "name": "ipython",
    "version": 3
   },
   "file_extension": ".py",
   "mimetype": "text/x-python",
   "name": "python",
   "nbconvert_exporter": "python",
   "pygments_lexer": "ipython3",
   "version": "3.11.5"
  }
 },
 "nbformat": 4,
 "nbformat_minor": 2
}
